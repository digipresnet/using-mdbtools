{
 "cells": [
  {
   "cell_type": "code",
   "execution_count": 7,
   "metadata": {},
   "outputs": [
    {
     "name": "stdout",
     "output_type": "stream",
     "text": [
      "--2019-11-02 22:27:54--  http://www.rogersaccesslibrary.com/Access97Samples/Books.zip\n",
      "Resolving www.rogersaccesslibrary.com (www.rogersaccesslibrary.com)... 92.53.241.22, 2a00:85c0:1::241:22\n",
      "Connecting to www.rogersaccesslibrary.com (www.rogersaccesslibrary.com)|92.53.241.22|:80... connected.\n",
      "HTTP request sent, awaiting response... 200 OK\n",
      "Length: 82408 (80K) [application/x-zip-compressed]\n",
      "Saving to: ‘Books.zip’\n",
      "\n",
      "Books.zip           100%[===================>]  80.48K   410KB/s    in 0.2s    \n",
      "\n",
      "2019-11-02 22:27:55 (410 KB/s) - ‘Books.zip’ saved [82408/82408]\n",
      "\n"
     ]
    }
   ],
   "source": [
    "!wget http://www.rogersaccesslibrary.com/Access97Samples/Books.zip"
   ]
  },
  {
   "cell_type": "code",
   "execution_count": 9,
   "metadata": {},
   "outputs": [
    {
     "name": "stdout",
     "output_type": "stream",
     "text": [
      "Archive:  Books.zip\r\n",
      "  inflating: Books.mdb               \r\n",
      "  inflating: Books_be.mdb            \r\n",
      "  inflating: BooksReadme.txt         \r\n"
     ]
    }
   ],
   "source": [
    "!unzip Books.zip"
   ]
  },
  {
   "cell_type": "code",
   "execution_count": 15,
   "metadata": {},
   "outputs": [
    {
     "name": "stdout",
     "output_type": "stream",
     "text": [
      "Authors Books \r\n"
     ]
    }
   ],
   "source": [
    "!mdb-tables -1 Books_be.mdb"
   ]
  },
  {
   "cell_type": "code",
   "execution_count": 16,
   "metadata": {},
   "outputs": [
    {
     "name": "stdout",
     "output_type": "stream",
     "text": [
      "AuID,Author,Sequence,Current\r\n",
      "1,\"Carlson, Roger\",,1\r\n",
      "2,\"Clancy, Tom\",,1\r\n",
      "3,\"Shakespeare, William\",,1\r\n"
     ]
    }
   ],
   "source": [
    "!mdb-export Books_be.mdb Authors"
   ]
  },
  {
   "cell_type": "code",
   "execution_count": 17,
   "metadata": {},
   "outputs": [
    {
     "name": "stdout",
     "output_type": "stream",
     "text": [
      "BookID,Author,Title,DatePublished,Comments,LastRead\r\n",
      "12,1,\"Tony DeSoto and the Crystal Egg\",\"07/01/01 00:00:00\",\"Very good\",\"06/22/01 00:00:00\"\r\n",
      "13,2,\"Hunt for Red October\",\"01/01/95 00:00:00\",\"fair\",\"06/22/01 00:00:00\"\r\n",
      "14,3,\"A Mid-Summer Nights Dream\",\"06/06/95 00:00:00\",\"a little dated\",\"06/22/01 00:00:00\"\r\n",
      "15,1,\"The Girl Who Would Be Wizard\",\"09/01/01 00:00:00\",\"unknown\",\"06/25/01 00:00:00\"\r\n",
      "16,2,\"Patriot Games\",\"01/01/97 00:00:00\",\"Not as good as Red October, but readable\",\"06/25/01 00:00:00\"\r\n"
     ]
    }
   ],
   "source": [
    "!mdb-export Books_be.mdb Books"
   ]
  },
  {
   "cell_type": "code",
   "execution_count": null,
   "metadata": {},
   "outputs": [],
   "source": []
  }
 ],
 "metadata": {
  "kernelspec": {
   "display_name": "Python 3",
   "language": "python",
   "name": "python3"
  },
  "language_info": {
   "codemirror_mode": {
    "name": "ipython",
    "version": 3
   },
   "file_extension": ".py",
   "mimetype": "text/x-python",
   "name": "python",
   "nbconvert_exporter": "python",
   "pygments_lexer": "ipython3",
   "version": "3.7.3"
  }
 },
 "nbformat": 4,
 "nbformat_minor": 2
}
