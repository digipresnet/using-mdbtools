{
 "cells": [
  {
   "cell_type": "markdown",
   "metadata": {},
   "source": [
    "# Simple Example\n"
   ]
  },
  {
   "cell_type": "code",
   "execution_count": 7,
   "metadata": {},
   "outputs": [
    {
     "name": "stdout",
     "output_type": "stream",
     "text": [
      "Books_be.mdb  Books.mdb  BooksReadme.txt\n"
     ]
    }
   ],
   "source": [
    "ls examples/ral-books"
   ]
  },
  {
   "cell_type": "code",
   "execution_count": 10,
   "metadata": {},
   "outputs": [
    {
     "name": "stdout",
     "output_type": "stream",
     "text": [
      "Authors\n",
      "Books\n"
     ]
    }
   ],
   "source": [
    "mdb-tables -1 examples/ral-books/Books_be.mdb"
   ]
  },
  {
   "cell_type": "code",
   "execution_count": 11,
   "metadata": {},
   "outputs": [
    {
     "name": "stdout",
     "output_type": "stream",
     "text": [
      "AuID,Author,Sequence,Current\n",
      "1,\"Carlson, Roger\",,1\n",
      "2,\"Clancy, Tom\",,1\n",
      "3,\"Shakespeare, William\",,1\n"
     ]
    }
   ],
   "source": [
    "mdb-export examples/ral-books/Books_be.mdb Authors"
   ]
  },
  {
   "cell_type": "code",
   "execution_count": 9,
   "metadata": {},
   "outputs": [
    {
     "name": "stdout",
     "output_type": "stream",
     "text": [
      "BookID,Author,Title,DatePublished,Comments,LastRead\n",
      "12,1,\"Tony DeSoto and the Crystal Egg\",\"07/01/01 00:00:00\",\"Very good\",\"06/22/01 00:00:00\"\n",
      "13,2,\"Hunt for Red October\",\"01/01/95 00:00:00\",\"fair\",\"06/22/01 00:00:00\"\n",
      "14,3,\"A Mid-Summer Nights Dream\",\"06/06/95 00:00:00\",\"a little dated\",\"06/22/01 00:00:00\"\n",
      "15,1,\"The Girl Who Would Be Wizard\",\"09/01/01 00:00:00\",\"unknown\",\"06/25/01 00:00:00\"\n",
      "16,2,\"Patriot Games\",\"01/01/97 00:00:00\",\"Not as good as Red October, but readable\",\"06/25/01 00:00:00\"\n"
     ]
    }
   ],
   "source": [
    "mdb-export examples/ral-books/Books_be.mdb Books"
   ]
  },
  {
   "cell_type": "code",
   "execution_count": 13,
   "metadata": {},
   "outputs": [
    {
     "name": "stdout",
     "output_type": "stream",
     "text": [
      "No manual entry for mdb-export\n",
      "See 'man 7 undocumented' for help when manual pages are not available.\n"
     ]
    },
    {
     "ename": "",
     "evalue": "16",
     "output_type": "error",
     "traceback": []
    }
   ],
   "source": [
    "man mdb-export"
   ]
  },
  {
   "cell_type": "code",
   "execution_count": null,
   "metadata": {},
   "outputs": [],
   "source": []
  }
 ],
 "metadata": {
  "kernelspec": {
   "display_name": "Bash",
   "language": "bash",
   "name": "bash"
  },
  "language_info": {
   "codemirror_mode": "shell",
   "file_extension": ".sh",
   "mimetype": "text/x-sh",
   "name": "bash"
  }
 },
 "nbformat": 4,
 "nbformat_minor": 2
}
